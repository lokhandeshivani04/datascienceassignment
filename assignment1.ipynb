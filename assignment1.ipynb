{
 "cells": [
  {
   "cell_type": "code",
   "execution_count": 9,
   "id": "56d303c7-fc97-43b0-b470-8f0cba677b2e",
   "metadata": {},
   "outputs": [
    {
     "name": "stdout",
     "output_type": "stream",
     "text": [
      "Even numbers: [2, 4, 6, 8, 10]\n",
      "Odd numbers: [1, 3, 5, 7, 9]\n"
     ]
    }
   ],
   "source": [
    "#Q 1 \n",
    "# Create 2 lists from a given list where \n",
    "# 1st list will contain all the odd numbers from the original list and\n",
    "# the 2nd one will contain all the even numbers\n",
    "#L = [1,2,3,4,5,6]\n",
    "\n",
    "num =  [1,2,3,4,5,6,7,8,9,10]\n",
    "#lst=[]\n",
    "even =[]\n",
    "odd =[]\n",
    "for num in num:\n",
    "    if num%2==0:\n",
    "        even.append(num)\n",
    "    else:\n",
    "        odd.append(num)\n",
    "print(\"Even numbers:\", even)\n",
    "print(\"Odd numbers:\", odd)"
   ]
  },
  {
   "cell_type": "markdown",
   "id": "fe5df2ab-59ee-47d9-9dd4-aa02e6cc45b4",
   "metadata": {},
   "source": [
    "# Q2\n",
    "# How to take list as input from user"
   ]
  },
  {
   "cell_type": "code",
   "execution_count": 16,
   "id": "4e74b94d-6674-4580-816d-7aac716764d7",
   "metadata": {},
   "outputs": [
    {
     "name": "stdin",
     "output_type": "stream",
     "text": [
      "Enter the number of elements:  6\n",
      " 1\n",
      " 2\n",
      " 3\n",
      " 3\n",
      " 4\n",
      " 5\n"
     ]
    },
    {
     "name": "stdout",
     "output_type": "stream",
     "text": [
      "[1, 2, 3, 3, 4, 5]\n"
     ]
    }
   ],
   "source": [
    "list = []\n",
    "n = int(input(\"Enter the number of elements: \"))\n",
    "for i in range(n):\n",
    "    ele = int(input())\n",
    "    list.append(ele)\n",
    "print(list)"
   ]
  },
  {
   "cell_type": "markdown",
   "id": "dd7e5f3d-f50b-4125-afaa-be3d2c6dd89b",
   "metadata": {},
   "source": [
    "# Q 3 \n",
    "# Write a program to merge 2 list without using the + operator\n"
   ]
  },
  {
   "cell_type": "code",
   "execution_count": 9,
   "id": "5e9e1a8c-0ef9-4f7a-b3a4-e442b2d99bd1",
   "metadata": {},
   "outputs": [
    {
     "name": "stdout",
     "output_type": "stream",
     "text": [
      "[1, 2, 3, 4, 5, 6, 7, 8]\n"
     ]
    }
   ],
   "source": [
    "l1 =[1,2,3,4]\n",
    "l2 =[5,6,7,8]\n",
    "l3=l1+(l2)\n",
    "print(l3)"
   ]
  },
  {
   "cell_type": "markdown",
   "id": "27256fea-be9f-4d3d-8368-d13f566bbc7b",
   "metadata": {},
   "source": [
    "# Q 4\n",
    "# Write a program to replace an item with a different item if found in the list \n",
    "L = [1,2,3,4,5,3]\n",
    "# replace 3 with 300"
   ]
  },
  {
   "cell_type": "code",
   "execution_count": 12,
   "id": "d3112c06-72d8-4b46-9441-49b1997fee84",
   "metadata": {},
   "outputs": [
    {
     "name": "stdout",
     "output_type": "stream",
     "text": [
      "[1, 2, 300, 4, 5, 6, 7, 8]\n"
     ]
    }
   ],
   "source": [
    "L=[1,2,3,4,5,6,7,8]\n",
    "L[2] = 300\n",
    "print(L)"
   ]
  },
  {
   "cell_type": "markdown",
   "id": "3acd62e9-ed22-459d-88b7-7d598078c87c",
   "metadata": {},
   "source": [
    "# Q 5 \n",
    "# Write a program that can convert a 2D list to 1D list"
   ]
  },
  {
   "cell_type": "code",
   "execution_count": 1,
   "id": "0ad37c0c-6cdd-436d-be60-a9b65f8a38ef",
   "metadata": {},
   "outputs": [
    {
     "name": "stdout",
     "output_type": "stream",
     "text": [
      "initial list  [[1, 2, 3], [3, 6, 7], [7, 5, 4]]\n",
      "final_result [1, 2, 3, 3, 6, 7, 7, 5, 4]\n"
     ]
    }
   ],
   "source": [
    "from itertools import chain\n",
    " \n",
    "ini_list = [[1, 2, 3],\n",
    "            [3, 6, 7],\n",
    "            [7, 5, 4]]\n",
    "             \n",
    "# printing initial list\n",
    "print (\"initial list \", str(ini_list))\n",
    " \n",
    "# converting 2d list into 1d\n",
    "# using chain.from_iterables\n",
    "flatten_list = list(chain.from_iterable(ini_list))\n",
    " \n",
    "# printing flatten_list\n",
    "print (\"final_result\", str(flatten_list))"
   ]
  },
  {
   "cell_type": "markdown",
   "id": "986dfd4b-70df-471d-94e0-74f7e745618f",
   "metadata": {},
   "source": [
    "# Q 6 \n",
    "# Write a program to remove duplicate items from a list"
   ]
  },
  {
   "cell_type": "code",
   "execution_count": 18,
   "id": "96eb82cf-700f-4962-9055-d47ce27084c7",
   "metadata": {},
   "outputs": [
    {
     "name": "stdout",
     "output_type": "stream",
     "text": [
      "The list after removing duplicates: [1, 2, 3, 4, 5]\n"
     ]
    }
   ],
   "source": [
    "L = [1,2,1,2,3,4,5,3,4]\n",
    "new_list = list(set(L))\n",
    "print(\"The list after removing duplicates:\", new_list)\n"
   ]
  },
  {
   "cell_type": "markdown",
   "id": "2a7d089f-bf24-49a2-97a0-9370c76ca590",
   "metadata": {},
   "source": [
    "# #Q#7 \n",
    "# Write a program to check if a list is in ascending order or not"
   ]
  },
  {
   "cell_type": "code",
   "execution_count": 1,
   "id": "a07664cc-ff95-4799-b2c0-116470cc2c3a",
   "metadata": {},
   "outputs": [],
   "source": [
    "# def sort_ascending(my_list):\n",
    "#     return sorted(my_list)\n",
    "\n",
    "# #function to sort the list in ascending order\n",
    "# def sort_decending(my_list):\n",
    "#     return sorted(my_list, reverse=True)\n",
    "\n",
    "# if __name__ == \"__main__\":\n",
    "#     my_list = [5,2,9,1,5,6]\n",
    "\n",
    "# #Sorting the list in ascending order\n",
    "#   ascending_list = sort_ascending(my_list)"
   ]
  },
  {
   "cell_type": "code",
   "execution_count": 8,
   "id": "1e9013f9-3116-4e11-b1e5-d5b3c3221330",
   "metadata": {},
   "outputs": [
    {
     "name": "stdout",
     "output_type": "stream",
     "text": [
      "List [1, 2, 3, 4, 5]: Ascending? True\n",
      "List [1, 3, 2, 4, 5]: Ascending? False\n"
     ]
    }
   ],
   "source": [
    "def is_ascending(lst):\n",
    "        for i in range(len(lst) - 1):\n",
    "            if lst[i] > lst[i + 1]:\n",
    "                return False\n",
    "        return True\n",
    "\n",
    "list1 = [1, 2, 3, 4, 5]\n",
    "list2 = [1, 3, 2, 4, 5]\n",
    "print(f\"List {list1}: Ascending? {is_ascending(list1)}\")\n",
    "print(f\"List {list2}: Ascending? {is_ascending(list2)}\")   "
   ]
  },
  {
   "cell_type": "code",
   "execution_count": null,
   "id": "4402e598-4534-4b36-84e9-80af419777b0",
   "metadata": {},
   "outputs": [],
   "source": []
  }
 ],
 "metadata": {
  "kernelspec": {
   "display_name": "Python 3 (ipykernel)",
   "language": "python",
   "name": "python3"
  },
  "language_info": {
   "codemirror_mode": {
    "name": "ipython",
    "version": 3
   },
   "file_extension": ".py",
   "mimetype": "text/x-python",
   "name": "python",
   "nbconvert_exporter": "python",
   "pygments_lexer": "ipython3",
   "version": "3.11.7"
  }
 },
 "nbformat": 4,
 "nbformat_minor": 5
}
